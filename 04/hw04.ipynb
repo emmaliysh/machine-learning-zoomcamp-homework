{
 "cells": [
  {
   "cell_type": "code",
   "execution_count": 1,
   "id": "e495e6e8-cf8b-4b07-8f24-580323faf8b5",
   "metadata": {},
   "outputs": [
    {
     "data": {
      "text/html": [
       "<div>\n",
       "<style scoped>\n",
       "    .dataframe tbody tr th:only-of-type {\n",
       "        vertical-align: middle;\n",
       "    }\n",
       "\n",
       "    .dataframe tbody tr th {\n",
       "        vertical-align: top;\n",
       "    }\n",
       "\n",
       "    .dataframe thead th {\n",
       "        text-align: right;\n",
       "    }\n",
       "</style>\n",
       "<table border=\"1\" class=\"dataframe\">\n",
       "  <thead>\n",
       "    <tr style=\"text-align: right;\">\n",
       "      <th></th>\n",
       "      <th>lead_source</th>\n",
       "      <th>industry</th>\n",
       "      <th>number_of_courses_viewed</th>\n",
       "      <th>annual_income</th>\n",
       "      <th>employment_status</th>\n",
       "      <th>location</th>\n",
       "      <th>interaction_count</th>\n",
       "      <th>lead_score</th>\n",
       "      <th>converted</th>\n",
       "    </tr>\n",
       "  </thead>\n",
       "  <tbody>\n",
       "    <tr>\n",
       "      <th>0</th>\n",
       "      <td>paid_ads</td>\n",
       "      <td>NaN</td>\n",
       "      <td>1</td>\n",
       "      <td>79450.0</td>\n",
       "      <td>unemployed</td>\n",
       "      <td>south_america</td>\n",
       "      <td>4</td>\n",
       "      <td>0.94</td>\n",
       "      <td>1</td>\n",
       "    </tr>\n",
       "    <tr>\n",
       "      <th>1</th>\n",
       "      <td>social_media</td>\n",
       "      <td>retail</td>\n",
       "      <td>1</td>\n",
       "      <td>46992.0</td>\n",
       "      <td>employed</td>\n",
       "      <td>south_america</td>\n",
       "      <td>1</td>\n",
       "      <td>0.80</td>\n",
       "      <td>0</td>\n",
       "    </tr>\n",
       "    <tr>\n",
       "      <th>2</th>\n",
       "      <td>events</td>\n",
       "      <td>healthcare</td>\n",
       "      <td>5</td>\n",
       "      <td>78796.0</td>\n",
       "      <td>unemployed</td>\n",
       "      <td>australia</td>\n",
       "      <td>3</td>\n",
       "      <td>0.69</td>\n",
       "      <td>1</td>\n",
       "    </tr>\n",
       "    <tr>\n",
       "      <th>3</th>\n",
       "      <td>paid_ads</td>\n",
       "      <td>retail</td>\n",
       "      <td>2</td>\n",
       "      <td>83843.0</td>\n",
       "      <td>NaN</td>\n",
       "      <td>australia</td>\n",
       "      <td>1</td>\n",
       "      <td>0.87</td>\n",
       "      <td>0</td>\n",
       "    </tr>\n",
       "    <tr>\n",
       "      <th>4</th>\n",
       "      <td>referral</td>\n",
       "      <td>education</td>\n",
       "      <td>3</td>\n",
       "      <td>85012.0</td>\n",
       "      <td>self_employed</td>\n",
       "      <td>europe</td>\n",
       "      <td>3</td>\n",
       "      <td>0.62</td>\n",
       "      <td>1</td>\n",
       "    </tr>\n",
       "    <tr>\n",
       "      <th>5</th>\n",
       "      <td>events</td>\n",
       "      <td>manufacturing</td>\n",
       "      <td>1</td>\n",
       "      <td>59904.0</td>\n",
       "      <td>NaN</td>\n",
       "      <td>africa</td>\n",
       "      <td>6</td>\n",
       "      <td>0.83</td>\n",
       "      <td>1</td>\n",
       "    </tr>\n",
       "    <tr>\n",
       "      <th>6</th>\n",
       "      <td>social_media</td>\n",
       "      <td>technology</td>\n",
       "      <td>0</td>\n",
       "      <td>51283.0</td>\n",
       "      <td>NaN</td>\n",
       "      <td>middle_east</td>\n",
       "      <td>2</td>\n",
       "      <td>0.57</td>\n",
       "      <td>0</td>\n",
       "    </tr>\n",
       "    <tr>\n",
       "      <th>7</th>\n",
       "      <td>social_media</td>\n",
       "      <td>NaN</td>\n",
       "      <td>5</td>\n",
       "      <td>62975.0</td>\n",
       "      <td>student</td>\n",
       "      <td>europe</td>\n",
       "      <td>4</td>\n",
       "      <td>0.62</td>\n",
       "      <td>1</td>\n",
       "    </tr>\n",
       "    <tr>\n",
       "      <th>8</th>\n",
       "      <td>referral</td>\n",
       "      <td>healthcare</td>\n",
       "      <td>4</td>\n",
       "      <td>38648.0</td>\n",
       "      <td>unemployed</td>\n",
       "      <td>south_america</td>\n",
       "      <td>2</td>\n",
       "      <td>0.86</td>\n",
       "      <td>1</td>\n",
       "    </tr>\n",
       "    <tr>\n",
       "      <th>9</th>\n",
       "      <td>paid_ads</td>\n",
       "      <td>other</td>\n",
       "      <td>3</td>\n",
       "      <td>59866.0</td>\n",
       "      <td>student</td>\n",
       "      <td>australia</td>\n",
       "      <td>3</td>\n",
       "      <td>0.43</td>\n",
       "      <td>1</td>\n",
       "    </tr>\n",
       "  </tbody>\n",
       "</table>\n",
       "</div>"
      ],
      "text/plain": [
       "    lead_source       industry  number_of_courses_viewed  annual_income  \\\n",
       "0      paid_ads            NaN                         1        79450.0   \n",
       "1  social_media         retail                         1        46992.0   \n",
       "2        events     healthcare                         5        78796.0   \n",
       "3      paid_ads         retail                         2        83843.0   \n",
       "4      referral      education                         3        85012.0   \n",
       "5        events  manufacturing                         1        59904.0   \n",
       "6  social_media     technology                         0        51283.0   \n",
       "7  social_media            NaN                         5        62975.0   \n",
       "8      referral     healthcare                         4        38648.0   \n",
       "9      paid_ads          other                         3        59866.0   \n",
       "\n",
       "  employment_status       location  interaction_count  lead_score  converted  \n",
       "0        unemployed  south_america                  4        0.94          1  \n",
       "1          employed  south_america                  1        0.80          0  \n",
       "2        unemployed      australia                  3        0.69          1  \n",
       "3               NaN      australia                  1        0.87          0  \n",
       "4     self_employed         europe                  3        0.62          1  \n",
       "5               NaN         africa                  6        0.83          1  \n",
       "6               NaN    middle_east                  2        0.57          0  \n",
       "7           student         europe                  4        0.62          1  \n",
       "8        unemployed  south_america                  2        0.86          1  \n",
       "9           student      australia                  3        0.43          1  "
      ]
     },
     "execution_count": 1,
     "metadata": {},
     "output_type": "execute_result"
    }
   ],
   "source": [
    "import pandas as pd\n",
    "import numpy as np\n",
    "\n",
    "df = pd.read_csv('https://raw.githubusercontent.com/alexeygrigorev/datasets/master/course_lead_scoring.csv')\n",
    "df.head(10)"
   ]
  },
  {
   "cell_type": "code",
   "execution_count": 2,
   "id": "901c22b0-7cb9-4da3-a211-1330b776ad9f",
   "metadata": {},
   "outputs": [
    {
     "data": {
      "text/html": [
       "<div>\n",
       "<style scoped>\n",
       "    .dataframe tbody tr th:only-of-type {\n",
       "        vertical-align: middle;\n",
       "    }\n",
       "\n",
       "    .dataframe tbody tr th {\n",
       "        vertical-align: top;\n",
       "    }\n",
       "\n",
       "    .dataframe thead th {\n",
       "        text-align: right;\n",
       "    }\n",
       "</style>\n",
       "<table border=\"1\" class=\"dataframe\">\n",
       "  <thead>\n",
       "    <tr style=\"text-align: right;\">\n",
       "      <th></th>\n",
       "      <th>lead_source</th>\n",
       "      <th>industry</th>\n",
       "      <th>number_of_courses_viewed</th>\n",
       "      <th>annual_income</th>\n",
       "      <th>employment_status</th>\n",
       "      <th>location</th>\n",
       "      <th>interaction_count</th>\n",
       "      <th>lead_score</th>\n",
       "      <th>converted</th>\n",
       "    </tr>\n",
       "  </thead>\n",
       "  <tbody>\n",
       "    <tr>\n",
       "      <th>0</th>\n",
       "      <td>paid_ads</td>\n",
       "      <td>NaN</td>\n",
       "      <td>1</td>\n",
       "      <td>79450.0</td>\n",
       "      <td>unemployed</td>\n",
       "      <td>south_america</td>\n",
       "      <td>4</td>\n",
       "      <td>0.94</td>\n",
       "      <td>1</td>\n",
       "    </tr>\n",
       "    <tr>\n",
       "      <th>1</th>\n",
       "      <td>social_media</td>\n",
       "      <td>retail</td>\n",
       "      <td>1</td>\n",
       "      <td>46992.0</td>\n",
       "      <td>employed</td>\n",
       "      <td>south_america</td>\n",
       "      <td>1</td>\n",
       "      <td>0.80</td>\n",
       "      <td>0</td>\n",
       "    </tr>\n",
       "    <tr>\n",
       "      <th>2</th>\n",
       "      <td>events</td>\n",
       "      <td>healthcare</td>\n",
       "      <td>5</td>\n",
       "      <td>78796.0</td>\n",
       "      <td>unemployed</td>\n",
       "      <td>australia</td>\n",
       "      <td>3</td>\n",
       "      <td>0.69</td>\n",
       "      <td>1</td>\n",
       "    </tr>\n",
       "    <tr>\n",
       "      <th>3</th>\n",
       "      <td>paid_ads</td>\n",
       "      <td>retail</td>\n",
       "      <td>2</td>\n",
       "      <td>83843.0</td>\n",
       "      <td>NaN</td>\n",
       "      <td>australia</td>\n",
       "      <td>1</td>\n",
       "      <td>0.87</td>\n",
       "      <td>0</td>\n",
       "    </tr>\n",
       "    <tr>\n",
       "      <th>4</th>\n",
       "      <td>referral</td>\n",
       "      <td>education</td>\n",
       "      <td>3</td>\n",
       "      <td>85012.0</td>\n",
       "      <td>self_employed</td>\n",
       "      <td>europe</td>\n",
       "      <td>3</td>\n",
       "      <td>0.62</td>\n",
       "      <td>1</td>\n",
       "    </tr>\n",
       "    <tr>\n",
       "      <th>5</th>\n",
       "      <td>events</td>\n",
       "      <td>manufacturing</td>\n",
       "      <td>1</td>\n",
       "      <td>59904.0</td>\n",
       "      <td>NaN</td>\n",
       "      <td>africa</td>\n",
       "      <td>6</td>\n",
       "      <td>0.83</td>\n",
       "      <td>1</td>\n",
       "    </tr>\n",
       "    <tr>\n",
       "      <th>6</th>\n",
       "      <td>social_media</td>\n",
       "      <td>technology</td>\n",
       "      <td>0</td>\n",
       "      <td>51283.0</td>\n",
       "      <td>NaN</td>\n",
       "      <td>middle_east</td>\n",
       "      <td>2</td>\n",
       "      <td>0.57</td>\n",
       "      <td>0</td>\n",
       "    </tr>\n",
       "    <tr>\n",
       "      <th>7</th>\n",
       "      <td>social_media</td>\n",
       "      <td>NaN</td>\n",
       "      <td>5</td>\n",
       "      <td>62975.0</td>\n",
       "      <td>student</td>\n",
       "      <td>europe</td>\n",
       "      <td>4</td>\n",
       "      <td>0.62</td>\n",
       "      <td>1</td>\n",
       "    </tr>\n",
       "    <tr>\n",
       "      <th>8</th>\n",
       "      <td>referral</td>\n",
       "      <td>healthcare</td>\n",
       "      <td>4</td>\n",
       "      <td>38648.0</td>\n",
       "      <td>unemployed</td>\n",
       "      <td>south_america</td>\n",
       "      <td>2</td>\n",
       "      <td>0.86</td>\n",
       "      <td>1</td>\n",
       "    </tr>\n",
       "    <tr>\n",
       "      <th>9</th>\n",
       "      <td>paid_ads</td>\n",
       "      <td>other</td>\n",
       "      <td>3</td>\n",
       "      <td>59866.0</td>\n",
       "      <td>student</td>\n",
       "      <td>australia</td>\n",
       "      <td>3</td>\n",
       "      <td>0.43</td>\n",
       "      <td>1</td>\n",
       "    </tr>\n",
       "  </tbody>\n",
       "</table>\n",
       "</div>"
      ],
      "text/plain": [
       "    lead_source       industry  number_of_courses_viewed  annual_income  \\\n",
       "0      paid_ads            NaN                         1        79450.0   \n",
       "1  social_media         retail                         1        46992.0   \n",
       "2        events     healthcare                         5        78796.0   \n",
       "3      paid_ads         retail                         2        83843.0   \n",
       "4      referral      education                         3        85012.0   \n",
       "5        events  manufacturing                         1        59904.0   \n",
       "6  social_media     technology                         0        51283.0   \n",
       "7  social_media            NaN                         5        62975.0   \n",
       "8      referral     healthcare                         4        38648.0   \n",
       "9      paid_ads          other                         3        59866.0   \n",
       "\n",
       "  employment_status       location  interaction_count  lead_score  converted  \n",
       "0        unemployed  south_america                  4        0.94          1  \n",
       "1          employed  south_america                  1        0.80          0  \n",
       "2        unemployed      australia                  3        0.69          1  \n",
       "3               NaN      australia                  1        0.87          0  \n",
       "4     self_employed         europe                  3        0.62          1  \n",
       "5               NaN         africa                  6        0.83          1  \n",
       "6               NaN    middle_east                  2        0.57          0  \n",
       "7           student         europe                  4        0.62          1  \n",
       "8        unemployed  south_america                  2        0.86          1  \n",
       "9           student      australia                  3        0.43          1  "
      ]
     },
     "execution_count": 2,
     "metadata": {},
     "output_type": "execute_result"
    }
   ],
   "source": [
    "# preparation\n",
    "\n",
    "prepared_df = df.copy()\n",
    "prepared_df.head(10)"
   ]
  },
  {
   "cell_type": "code",
   "execution_count": 3,
   "id": "b2f667f4-3719-42f7-b57c-337f4a0157f4",
   "metadata": {},
   "outputs": [
    {
     "data": {
      "text/html": [
       "<div>\n",
       "<style scoped>\n",
       "    .dataframe tbody tr th:only-of-type {\n",
       "        vertical-align: middle;\n",
       "    }\n",
       "\n",
       "    .dataframe tbody tr th {\n",
       "        vertical-align: top;\n",
       "    }\n",
       "\n",
       "    .dataframe thead th {\n",
       "        text-align: right;\n",
       "    }\n",
       "</style>\n",
       "<table border=\"1\" class=\"dataframe\">\n",
       "  <thead>\n",
       "    <tr style=\"text-align: right;\">\n",
       "      <th></th>\n",
       "      <th>lead_source</th>\n",
       "      <th>industry</th>\n",
       "      <th>number_of_courses_viewed</th>\n",
       "      <th>annual_income</th>\n",
       "      <th>employment_status</th>\n",
       "      <th>location</th>\n",
       "      <th>interaction_count</th>\n",
       "      <th>lead_score</th>\n",
       "      <th>converted</th>\n",
       "    </tr>\n",
       "  </thead>\n",
       "  <tbody>\n",
       "    <tr>\n",
       "      <th>0</th>\n",
       "      <td>paid_ads</td>\n",
       "      <td>NA</td>\n",
       "      <td>1</td>\n",
       "      <td>79450.0</td>\n",
       "      <td>unemployed</td>\n",
       "      <td>south_america</td>\n",
       "      <td>4</td>\n",
       "      <td>0.94</td>\n",
       "      <td>1</td>\n",
       "    </tr>\n",
       "    <tr>\n",
       "      <th>1</th>\n",
       "      <td>social_media</td>\n",
       "      <td>retail</td>\n",
       "      <td>1</td>\n",
       "      <td>46992.0</td>\n",
       "      <td>employed</td>\n",
       "      <td>south_america</td>\n",
       "      <td>1</td>\n",
       "      <td>0.80</td>\n",
       "      <td>0</td>\n",
       "    </tr>\n",
       "    <tr>\n",
       "      <th>2</th>\n",
       "      <td>events</td>\n",
       "      <td>healthcare</td>\n",
       "      <td>5</td>\n",
       "      <td>78796.0</td>\n",
       "      <td>unemployed</td>\n",
       "      <td>australia</td>\n",
       "      <td>3</td>\n",
       "      <td>0.69</td>\n",
       "      <td>1</td>\n",
       "    </tr>\n",
       "    <tr>\n",
       "      <th>3</th>\n",
       "      <td>paid_ads</td>\n",
       "      <td>retail</td>\n",
       "      <td>2</td>\n",
       "      <td>83843.0</td>\n",
       "      <td>NA</td>\n",
       "      <td>australia</td>\n",
       "      <td>1</td>\n",
       "      <td>0.87</td>\n",
       "      <td>0</td>\n",
       "    </tr>\n",
       "    <tr>\n",
       "      <th>4</th>\n",
       "      <td>referral</td>\n",
       "      <td>education</td>\n",
       "      <td>3</td>\n",
       "      <td>85012.0</td>\n",
       "      <td>self_employed</td>\n",
       "      <td>europe</td>\n",
       "      <td>3</td>\n",
       "      <td>0.62</td>\n",
       "      <td>1</td>\n",
       "    </tr>\n",
       "    <tr>\n",
       "      <th>5</th>\n",
       "      <td>events</td>\n",
       "      <td>manufacturing</td>\n",
       "      <td>1</td>\n",
       "      <td>59904.0</td>\n",
       "      <td>NA</td>\n",
       "      <td>africa</td>\n",
       "      <td>6</td>\n",
       "      <td>0.83</td>\n",
       "      <td>1</td>\n",
       "    </tr>\n",
       "    <tr>\n",
       "      <th>6</th>\n",
       "      <td>social_media</td>\n",
       "      <td>technology</td>\n",
       "      <td>0</td>\n",
       "      <td>51283.0</td>\n",
       "      <td>NA</td>\n",
       "      <td>middle_east</td>\n",
       "      <td>2</td>\n",
       "      <td>0.57</td>\n",
       "      <td>0</td>\n",
       "    </tr>\n",
       "    <tr>\n",
       "      <th>7</th>\n",
       "      <td>social_media</td>\n",
       "      <td>NA</td>\n",
       "      <td>5</td>\n",
       "      <td>62975.0</td>\n",
       "      <td>student</td>\n",
       "      <td>europe</td>\n",
       "      <td>4</td>\n",
       "      <td>0.62</td>\n",
       "      <td>1</td>\n",
       "    </tr>\n",
       "    <tr>\n",
       "      <th>8</th>\n",
       "      <td>referral</td>\n",
       "      <td>healthcare</td>\n",
       "      <td>4</td>\n",
       "      <td>38648.0</td>\n",
       "      <td>unemployed</td>\n",
       "      <td>south_america</td>\n",
       "      <td>2</td>\n",
       "      <td>0.86</td>\n",
       "      <td>1</td>\n",
       "    </tr>\n",
       "    <tr>\n",
       "      <th>9</th>\n",
       "      <td>paid_ads</td>\n",
       "      <td>other</td>\n",
       "      <td>3</td>\n",
       "      <td>59866.0</td>\n",
       "      <td>student</td>\n",
       "      <td>australia</td>\n",
       "      <td>3</td>\n",
       "      <td>0.43</td>\n",
       "      <td>1</td>\n",
       "    </tr>\n",
       "  </tbody>\n",
       "</table>\n",
       "</div>"
      ],
      "text/plain": [
       "    lead_source       industry  number_of_courses_viewed  annual_income  \\\n",
       "0      paid_ads             NA                         1        79450.0   \n",
       "1  social_media         retail                         1        46992.0   \n",
       "2        events     healthcare                         5        78796.0   \n",
       "3      paid_ads         retail                         2        83843.0   \n",
       "4      referral      education                         3        85012.0   \n",
       "5        events  manufacturing                         1        59904.0   \n",
       "6  social_media     technology                         0        51283.0   \n",
       "7  social_media             NA                         5        62975.0   \n",
       "8      referral     healthcare                         4        38648.0   \n",
       "9      paid_ads          other                         3        59866.0   \n",
       "\n",
       "  employment_status       location  interaction_count  lead_score  converted  \n",
       "0        unemployed  south_america                  4        0.94          1  \n",
       "1          employed  south_america                  1        0.80          0  \n",
       "2        unemployed      australia                  3        0.69          1  \n",
       "3                NA      australia                  1        0.87          0  \n",
       "4     self_employed         europe                  3        0.62          1  \n",
       "5                NA         africa                  6        0.83          1  \n",
       "6                NA    middle_east                  2        0.57          0  \n",
       "7           student         europe                  4        0.62          1  \n",
       "8        unemployed  south_america                  2        0.86          1  \n",
       "9           student      australia                  3        0.43          1  "
      ]
     },
     "execution_count": 3,
     "metadata": {},
     "output_type": "execute_result"
    }
   ],
   "source": [
    "numerical = ['number_of_courses_viewed', 'annual_income', 'interaction_count', 'lead_score']\n",
    "categorical = ['lead_source', 'industry', 'employment_status', 'location']\n",
    "\n",
    "for n in numerical:\n",
    "    prepared_df[n] = prepared_df[n].fillna(0.0)\n",
    "\n",
    "\n",
    "for c in categorical:\n",
    "    prepared_df[c] = prepared_df[c].fillna('NA')\n",
    "\n",
    "# prepared_df = prepared_df.fillna(0.0)\n",
    "\n",
    "prepared_df.head(10)"
   ]
  },
  {
   "cell_type": "code",
   "execution_count": 4,
   "id": "23966833-e75f-4721-8aa4-0a179d506258",
   "metadata": {},
   "outputs": [],
   "source": [
    "# Split the data into 3 parts: train/validation/test\n",
    "\n",
    "from sklearn.model_selection import train_test_split\n",
    "\n",
    "df_full_train, df_test = train_test_split(prepared_df, test_size=0.2, random_state=1)\n",
    "df_train, df_val = train_test_split(df_full_train, test_size=0.25, random_state=1)\n",
    "\n",
    "df_train = df_train.reset_index(drop=True)\n",
    "df_val = df_val.reset_index(drop=True)\n",
    "df_test = df_test.reset_index(drop=True)\n",
    "\n",
    "y_train = df_train.converted.values\n",
    "y_val = df_val.converted.values\n",
    "y_test = df_test.converted.values\n",
    "\n",
    "del df_train['converted']\n",
    "del df_val['converted']\n",
    "del df_test['converted']"
   ]
  },
  {
   "cell_type": "code",
   "execution_count": 5,
   "id": "2f207245-509a-4e2b-9825-30a1be945fbd",
   "metadata": {},
   "outputs": [
    {
     "data": {
      "text/plain": [
       "(1462, 876, 293, 293)"
      ]
     },
     "execution_count": 5,
     "metadata": {},
     "output_type": "execute_result"
    }
   ],
   "source": [
    "len(prepared_df), len(df_train), len(df_val), len(df_test)"
   ]
  },
  {
   "cell_type": "code",
   "execution_count": 6,
   "id": "f4140196-9ea0-4927-b21f-0a29de66ed9d",
   "metadata": {},
   "outputs": [],
   "source": [
    "# Question 1: ROC AUC feature importance\n",
    "\n",
    "from sklearn.metrics import roc_auc_score\n",
    "from sklearn.metrics import auc\n",
    "\n",
    "def ROC_AUC_feature_importance(feature):\n",
    "\n",
    "    y_pred = df_train[feature]\n",
    "\n",
    "    return roc_auc_score(y_train, y_pred)\n",
    "\n",
    "# lead_score\n",
    "# number_of_courses_viewed\n",
    "# interaction_count\n",
    "# annual_income\n"
   ]
  },
  {
   "cell_type": "code",
   "execution_count": 7,
   "id": "68773dca-b84f-4e75-9cf2-810e276bf2d0",
   "metadata": {},
   "outputs": [
    {
     "data": {
      "text/plain": [
       "0.6144993577250176"
      ]
     },
     "execution_count": 7,
     "metadata": {},
     "output_type": "execute_result"
    }
   ],
   "source": [
    "ROC_AUC_feature_importance('lead_score')"
   ]
  },
  {
   "cell_type": "code",
   "execution_count": 8,
   "id": "c8001df5-f290-46fc-8a0d-3d56ac31a9ce",
   "metadata": {},
   "outputs": [
    {
     "data": {
      "text/plain": [
       "0.7635680590007088"
      ]
     },
     "execution_count": 8,
     "metadata": {},
     "output_type": "execute_result"
    }
   ],
   "source": [
    "ROC_AUC_feature_importance('number_of_courses_viewed') # ans"
   ]
  },
  {
   "cell_type": "code",
   "execution_count": 9,
   "id": "abe4ac94-1140-420f-aebb-e7c8762ed410",
   "metadata": {},
   "outputs": [
    {
     "data": {
      "text/plain": [
       "0.738270176293409"
      ]
     },
     "execution_count": 9,
     "metadata": {},
     "output_type": "execute_result"
    }
   ],
   "source": [
    "ROC_AUC_feature_importance('interaction_count')"
   ]
  },
  {
   "cell_type": "code",
   "execution_count": 10,
   "id": "d87703be-b494-4ba5-b9a5-5dd9cbd19ce1",
   "metadata": {},
   "outputs": [
    {
     "data": {
      "text/plain": [
       "0.5519578313253012"
      ]
     },
     "execution_count": 10,
     "metadata": {},
     "output_type": "execute_result"
    }
   ],
   "source": [
    "ROC_AUC_feature_importance('annual_income')"
   ]
  },
  {
   "cell_type": "code",
   "execution_count": 14,
   "id": "ccde28c7-4161-4098-8318-d4442e027766",
   "metadata": {},
   "outputs": [
    {
     "data": {
      "text/plain": [
       "0.647564950627936"
      ]
     },
     "execution_count": 14,
     "metadata": {},
     "output_type": "execute_result"
    }
   ],
   "source": [
    "# Question 2: Training the model\n",
    "\n",
    "from sklearn.feature_extraction import DictVectorizer\n",
    "from sklearn.linear_model import LogisticRegression\n",
    "\n",
    "dv = DictVectorizer(sparse=False)\n",
    "\n",
    "train_dict = df_train[categorical + numerical].to_dict(orient='records')\n",
    "X_train = dv.fit_transform(train_dict)\n",
    "\n",
    "model = LogisticRegression(solver='liblinear', C=1.0, max_iter=1000)\n",
    "model.fit(X_train, y_train)\n",
    "\n",
    "val_dict = df_val[categorical + numerical].to_dict(orient='records')\n",
    "X_val = dv.transform(val_dict)\n",
    "\n",
    "y_pred = model.predict_proba(X_val)[:, 1]\n",
    "# print(y_pred)\n",
    "\n",
    "final_decision = np.where(y_pred >= 0.5, 1, 0) # 1 if (y_pred >= 0.5) else 0\n",
    "\n",
    "conversion_decision = (y_pred >= 0.5)\n",
    "# # x = 10 if a > b else 11\n",
    "# print(final_decision)\n",
    "# print(y_val)\n",
    "roc_auc_score(y_val, conversion_decision)\n",
    "\n"
   ]
  },
  {
   "cell_type": "code",
   "execution_count": 18,
   "id": "4f788e75-86c5-4846-8592-a4a949718ff4",
   "metadata": {},
   "outputs": [],
   "source": [
    "# Question 3: Precision and Recall\n",
    "\n",
    "scores = []\n",
    "\n",
    "thresholds = np.linspace(0, 1, 101)\n",
    "\n",
    "for t in thresholds:\n",
    "    actual_positive = (y_val == 1)\n",
    "    actual_negative = (y_val == 0)\n",
    "    \n",
    "    predict_positive = (y_pred >= t)\n",
    "    predict_negative = (y_pred < t)\n",
    "\n",
    "    tp = (predict_positive & actual_positive).sum()\n",
    "    tn = (predict_negative & actual_negative).sum()\n",
    "\n",
    "    fp = (predict_positive & actual_negative).sum()\n",
    "    fn = (predict_negative & actual_positive).sum()\n",
    "    \n",
    "    scores.append((t, tp, fp, fn, tn))  "
   ]
  },
  {
   "cell_type": "code",
   "execution_count": 19,
   "id": "ece7fdcc-afa6-4590-86e9-4075306f143b",
   "metadata": {},
   "outputs": [],
   "source": [
    "columns = ['threshold', 'tp', 'fp', 'fn', 'tn']\n",
    "df_scores = pd.DataFrame(scores, columns=columns)\n",
    "\n",
    "df_scores['p'] = df_scores.tp / (df_scores.tp + df_scores.fp)\n",
    "df_scores['r'] = df_scores.tp / (df_scores.tp + df_scores.fn)"
   ]
  },
  {
   "cell_type": "code",
   "execution_count": 20,
   "id": "02421842-ba71-43bd-8704-bea3767e1a05",
   "metadata": {},
   "outputs": [
    {
     "data": {
      "text/plain": [
       "<matplotlib.legend.Legend at 0x75a48eec1e90>"
      ]
     },
     "execution_count": 20,
     "metadata": {},
     "output_type": "execute_result"
    },
    {
     "data": {
      "image/png": "[encoded data removed]",
      "text/plain": [
       "<Figure size 640x480 with 1 Axes>"
      ]
     },
     "metadata": {},
     "output_type": "display_data"
    }
   ],
   "source": [
    "import matplotlib.pyplot as plt\n",
    "\n",
    "plt.plot(df_scores.threshold, df_scores['p'], label='P')\n",
    "plt.plot(df_scores.threshold, df_scores['r'], label='R')\n",
    "plt.legend()"
   ]
  },
  {
   "cell_type": "code",
   "execution_count": 21,
   "id": "6d392c9e-4746-41fa-8a6b-931cb2171f89",
   "metadata": {},
   "outputs": [],
   "source": [
    "# Question 4: F1 score\n",
    "\n",
    "df_scores['f1'] = 2 * df_scores['p'] * df_scores['r'] / (df_scores['p'] + df_scores['r'])\n"
   ]
  },
  {
   "cell_type": "code",
   "execution_count": 22,
   "id": "c8f68fe3-a45f-4104-897d-f3069dcb4ed7",
   "metadata": {},
   "outputs": [
    {
     "data": {
      "text/plain": [
       "<matplotlib.legend.Legend at 0x75a48e595cd0>"
      ]
     },
     "execution_count": 22,
     "metadata": {},
     "output_type": "execute_result"
    },
    {
     "data": {
      "image/png": "[encoded data removed]",
      "text/plain": [
       "<Figure size 640x480 with 1 Axes>"
      ]
     },
     "metadata": {},
     "output_type": "display_data"
    }
   ],
   "source": [
    "plt.plot(df_scores.threshold, df_scores['f1'], label='F1')\n",
    "\n",
    "plt.legend()"
   ]
  },
  {
   "cell_type": "code",
   "execution_count": 36,
   "id": "01573cbe-5bb2-4f6a-a3d3-46e6ca939c1d",
   "metadata": {},
   "outputs": [],
   "source": [
    "# Question 5: 5-Fold CV\n",
    "\n",
    "def train(df_train, y_train, C=1.0):\n",
    "    dicts = df_train[categorical + numerical].to_dict(orient='records')\n",
    "\n",
    "    dv = DictVectorizer(sparse=False)\n",
    "    X_train = dv.fit_transform(dicts)\n",
    "\n",
    "    model = LogisticRegression(solver='liblinear', C=1.0, max_iter=1000)\n",
    "    model.fit(X_train, y_train)\n",
    "    \n",
    "    return dv, model\n"
   ]
  },
  {
   "cell_type": "code",
   "execution_count": 37,
   "id": "22d3e1a4-91e6-4229-94b8-8091a219c634",
   "metadata": {},
   "outputs": [],
   "source": [
    "dv, model = train(df_train, y_train, C=0.001)"
   ]
  },
  {
   "cell_type": "code",
   "execution_count": 38,
   "id": "a35d89eb-e765-4800-b3b5-ca9aa5b1ab89",
   "metadata": {},
   "outputs": [],
   "source": [
    "def predict(df, dv, model):\n",
    "    dicts = df[categorical + numerical].to_dict(orient='records')\n",
    "\n",
    "    X = dv.transform(dicts)\n",
    "    y_pred = model.predict_proba(X)[:, 1]\n",
    "\n",
    "    return y_pred"
   ]
  },
  {
   "cell_type": "code",
   "execution_count": 39,
   "id": "881cd37a-f5ec-4258-a18a-c65b38db1f98",
   "metadata": {},
   "outputs": [],
   "source": [
    "y_pred = predict(df_val, dv, model)"
   ]
  },
  {
   "cell_type": "code",
   "execution_count": 40,
   "id": "9429faf0-6092-41b5-afd8-78fb0c19fabf",
   "metadata": {},
   "outputs": [],
   "source": [
    "from sklearn.model_selection import KFold"
   ]
  },
  {
   "cell_type": "code",
   "execution_count": 41,
   "id": "53ff59e8-0cfe-484c-b2b9-c60799966977",
   "metadata": {},
   "outputs": [
    {
     "name": "stdout",
     "output_type": "stream",
     "text": [
      "Requirement already satisfied: tqdm in /opt/conda/envs/ml-zoomcamp/lib/python3.11/site-packages (4.67.1)\n"
     ]
    }
   ],
   "source": [
    "!pip install tqdm"
   ]
  },
  {
   "cell_type": "code",
   "execution_count": 42,
   "id": "b0f5b50d-c59e-429a-9bd9-d9ccbc039f92",
   "metadata": {},
   "outputs": [],
   "source": [
    "\n",
    "from tqdm.auto import tqdm"
   ]
  },
  {
   "cell_type": "code",
   "execution_count": 44,
   "id": "d2757317-99a7-4a45-b9a9-6e4d2cada5c0",
   "metadata": {},
   "outputs": [
    {
     "data": {
      "application/vnd.jupyter.widget-view+json": {
       "model_id": "2e45afbc57af4d81b22ad2dbc6f3840e",
       "version_major": 2,
       "version_minor": 0
      },
      "text/plain": [
       "  0%|          | 0/3 [00:00<?, ?it/s]"
      ]
     },
     "metadata": {},
     "output_type": "display_data"
    },
    {
     "name": "stdout",
     "output_type": "stream",
     "text": [
      "C=1e-06 0.822 +- 0.036\n",
      "C=0.001 0.822 +- 0.036\n",
      "C=1 0.822 +- 0.036\n"
     ]
    }
   ],
   "source": [
    "n_splits = 5\n",
    "\n",
    "for C in tqdm([0.000001, 0.001, 1]):\n",
    "    kfold = KFold(n_splits=n_splits, shuffle=True, random_state=1)\n",
    "\n",
    "    scores = []\n",
    "\n",
    "    for train_idx, val_idx in kfold.split(df_full_train):\n",
    "        df_train = df_full_train.iloc[train_idx]\n",
    "        df_val = df_full_train.iloc[val_idx]\n",
    "\n",
    "        y_train = df_train.converted.values\n",
    "        y_val = df_val.converted.values\n",
    "\n",
    "        dv, model = train(df_train, y_train, C=C)\n",
    "        y_pred = predict(df_val, dv, model)\n",
    "\n",
    "        auc = roc_auc_score(y_val, y_pred)\n",
    "        scores.append(auc)\n",
    "\n",
    "    print('C=%s %.3f +- %.3f' % (C, np.mean(scores), np.std(scores)))"
   ]
  },
  {
   "cell_type": "code",
   "execution_count": 35,
   "id": "e631aa41-fba9-4808-b46b-c76656153763",
   "metadata": {},
   "outputs": [
    {
     "data": {
      "text/plain": [
       "[0.9213131839499739,\n",
       " 0.9318945969192276,\n",
       " 0.9061693642974431,\n",
       " 0.9105697384806973,\n",
       " 0.9307382758086983]"
      ]
     },
     "execution_count": 35,
     "metadata": {},
     "output_type": "execute_result"
    }
   ],
   "source": [
    "scores"
   ]
  },
  {
   "cell_type": "code",
   "execution_count": null,
   "id": "84c04e74-9f2e-4d07-96ad-ec4751eac0b3",
   "metadata": {},
   "outputs": [],
   "source": [
    "dv, model = train(df_full_train, df_full_train.churn.values, C=1.0)\n",
    "y_pred = predict(df_test, dv, model)\n",
    "\n",
    "auc = roc_auc_score(y_test, y_pred)\n",
    "auc"
   ]
  },
  {
   "cell_type": "code",
   "execution_count": 15,
   "id": "0468aa5c-dd9b-46c6-bbb2-7d7d6ebb8a51",
   "metadata": {},
   "outputs": [],
   "source": [
    "# Question 6: Hyperparameter Tuning\n",
    "\n"
   ]
  }
 ],
 "metadata": {
  "kernelspec": {
   "display_name": "Python 3 (ipykernel)",
   "language": "python",
   "name": "python3"
  },
  "language_info": {
   "codemirror_mode": {
    "name": "ipython",
    "version": 3
   },
   "file_extension": ".py",
   "mimetype": "text/x-python",
   "name": "python",
   "nbconvert_exporter": "python",
   "pygments_lexer": "ipython3",
   "version": "3.11.13"
  }
 },
 "nbformat": 4,
 "nbformat_minor": 5
}
